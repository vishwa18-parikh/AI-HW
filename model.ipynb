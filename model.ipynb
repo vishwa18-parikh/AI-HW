{
  "nbformat": 4,
  "nbformat_minor": 0,
  "metadata": {
    "colab": {
      "name": "model.ipynb",
      "provenance": [],
      "collapsed_sections": [],
      "authorship_tag": "ABX9TyNugYhzNJLd12JZIuoDVxwr",
      "include_colab_link": true
    },
    "kernelspec": {
      "name": "python3",
      "display_name": "Python 3"
    }
  },
  "cells": [
    {
      "cell_type": "markdown",
      "metadata": {
        "id": "view-in-github",
        "colab_type": "text"
      },
      "source": [
        "<a href=\"https://colab.research.google.com/github/vishwa18-parikh/AI-HW/blob/master/model.ipynb\" target=\"_parent\"><img src=\"https://colab.research.google.com/assets/colab-badge.svg\" alt=\"Open In Colab\"/></a>"
      ]
    },
    {
      "cell_type": "code",
      "metadata": {
        "id": "Hdk3wb-wpFGl",
        "outputId": "dc355586-9c3d-4c17-ece0-e99d7f72a1ff",
        "colab": {
          "base_uri": "https://localhost:8080/",
          "height": 301
        }
      },
      "source": [
        "import time\n",
        "import numpy as np\n",
        "\n",
        "class Perceptron:\n",
        "\n",
        "\tdef __init__(self):\n",
        "\t\tnp.random.seed(1)\n",
        "\t\tself.weights = np.random.random(3)\n",
        "\n",
        "\tdef activation(self,x):\n",
        "\t\tif x>0.5:\n",
        "\t\t\treturn 1\n",
        "\t\treturn 0\n",
        "\n",
        "\tdef train(self,inputs,outputs):\n",
        "\t\tself.training_outputs = outputs\n",
        "\t\tfor i in range(100):\n",
        "\t\t\tfor j in range(len(inputs)):\n",
        "\t\t\t\tw_sum = np.dot(inputs[j],self.weights)\n",
        "\t\t\t\tyin = self.activation(w_sum)\n",
        "\t\t\t\terror = self.training_outputs[j] - yin\n",
        "\t\t\t\tself.weights += (0.05*error*inputs[j])\n",
        "\n",
        "\tdef predict(self,inputs):\n",
        "\t\ttemp = []\n",
        "\t\tfor i in inputs:\n",
        "\t\t\ty = self.activation(np.dot(i,self.weights))\n",
        "\t\t\ttemp.append(y)\n",
        "\t\treturn np.array(temp)\n",
        "\n",
        "dataset = np.array([\n",
        "[0,0,0],\n",
        "[0,0,1],\n",
        "[0,1,0],\n",
        "[0,1,1],\n",
        "[1,0,0],\n",
        "[1,0,1],\n",
        "[1,1,0],\n",
        "[1,1,1],\n",
        "])\n",
        "or_op = np.array([0,1,1,1,1,1,1,1])\n",
        "and_op = np.array([0,0,0,0,0,0,0,1])\n",
        "\t\n",
        "o = Perceptron()\n",
        "\n",
        "print(\"To Predict a person is rich or poor..\\n\")\n",
        "o.train(dataset,and_op)\n",
        "time.sleep(2)\n",
        "y_pred = o.predict(dataset)\n",
        "    \n",
        "print(\"Here 0 Indicates False And 1 indicates True\\n\")\n",
        "print(\"| Has Home | Monthly Income>2000 | Get Food Twice | Prediction |\")\n",
        "print(\"---------------------------------------------------------------------------------------------\")\n",
        "for i in range(len(y_pred)):\n",
        "  print(\"| {0}        | {1}                   | {2}              | {3}          |\".format(dataset[i][0],dataset[i][1],dataset[i][2],y_pred[i]))\n",
        "\n",
        "print(\"\\n\")"
      ],
      "execution_count": null,
      "outputs": [
        {
          "output_type": "stream",
          "text": [
            "To Predict a person is rich or poor..\n",
            "\n",
            "Here 0 Indicates False And 1 indicates True\n",
            "\n",
            "| Has Home | Monthly Income>2000 | Get Food Twice | Prediction |\n",
            "---------------------------------------------------------------------------------------------\n",
            "| 0        | 0                   | 0              | 0          |\n",
            "| 0        | 0                   | 1              | 0          |\n",
            "| 0        | 1                   | 0              | 0          |\n",
            "| 0        | 1                   | 1              | 0          |\n",
            "| 1        | 0                   | 0              | 0          |\n",
            "| 1        | 0                   | 1              | 0          |\n",
            "| 1        | 1                   | 0              | 0          |\n",
            "| 1        | 1                   | 1              | 1          |\n",
            "\n",
            "\n"
          ],
          "name": "stdout"
        }
      ]
    },
    {
      "cell_type": "code",
      "metadata": {
        "id": "E6Kr5_9-qprx"
      },
      "source": [
        ""
      ],
      "execution_count": null,
      "outputs": []
    }
  ]
}