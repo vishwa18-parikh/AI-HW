{
  "nbformat": 4,
  "nbformat_minor": 0,
  "metadata": {
    "colab": {
      "name": "Perceptron.ipynb",
      "provenance": [],
      "collapsed_sections": [],
      "authorship_tag": "ABX9TyOHtqR5Yzo/YKS76hy2rK+7",
      "include_colab_link": true
    },
    "kernelspec": {
      "name": "python3",
      "display_name": "Python 3"
    }
  },
  "cells": [
    {
      "cell_type": "markdown",
      "metadata": {
        "id": "view-in-github",
        "colab_type": "text"
      },
      "source": [
        "<a href=\"https://colab.research.google.com/github/vishwa18-parikh/AI-HW/blob/master/Perceptron.ipynb\" target=\"_parent\"><img src=\"https://colab.research.google.com/assets/colab-badge.svg\" alt=\"Open In Colab\"/></a>"
      ]
    },
    {
      "cell_type": "code",
      "metadata": {
        "id": "Y1rosdcN5uAp"
      },
      "source": [
        "import numpy as np\n",
        "class Perceptron(object):\n",
        "    def __init__(self,no_of_inputs,threshold=100,learning_rate=0.5):\n",
        "        self.threshold=threshold\n",
        "        self.learning_rate=learning_rate\n",
        "        self.weights=np.zeros(no_of_inputs+1)\n",
        "    def predict(self,inputs):\n",
        "        summation=np.dot(inputs,self.weights[1:])+self.weights[0]\n",
        "        #print(\"sum\")\n",
        "        ##print(summation)\n",
        "        #x=self.weights\n",
        "        #print(x)\n",
        "\n",
        "        if summation>0:\n",
        "            activation=1\n",
        "        else:\n",
        "            activation=0\n",
        "        return activation\n",
        "    def train(self,training_inputs,labels):\n",
        "        for _ in range(self.threshold):\n",
        "            for inputs,label in zip(training_inputs,labels):\n",
        "                prediction=self.predict(inputs)\n",
        "                self.weights[1:]+=self.learning_rate*(label-prediction)*inputs\n",
        "                self.weights[0]+=self.learning_rate*(label-prediction)"
      ],
      "execution_count": null,
      "outputs": []
    },
    {
      "cell_type": "code",
      "metadata": {
        "id": "5AVE1HTs5waX",
        "outputId": "7502c311-22ae-4af9-be02-263f752083b3",
        "colab": {
          "base_uri": "https://localhost:8080/",
          "height": 34
        }
      },
      "source": [
        "import numpy as np\n",
        "\n",
        "\n",
        "training_inputs=[]\n",
        "training_inputs.append(np.array([0,0,0]))\n",
        "training_inputs.append(np.array([1,1,0]))\n",
        "training_inputs.append(np.array([0,1,0]))\n",
        "training_inputs.append(np.array([0,1,1]))\n",
        "training_inputs.append(np.array([1,0,0]))\n",
        "training_inputs.append(np.array([1,1,1]))\n",
        "\n",
        "labels=np.array([0,0,0,0,0,1])\n",
        "perceptron=Perceptron(3)\n",
        "perceptron.train(training_inputs,labels) \n",
        "\n",
        "inputs=np.array([1,1,0])\n",
        "print(perceptron.predict(inputs))"
      ],
      "execution_count": null,
      "outputs": [
        {
          "output_type": "stream",
          "text": [
            "0\n"
          ],
          "name": "stdout"
        }
      ]
    },
    {
      "cell_type": "code",
      "metadata": {
        "id": "YYIvXuzW52XF"
      },
      "source": [
        ""
      ],
      "execution_count": null,
      "outputs": []
    }
  ]
}